{
  "nbformat": 4,
  "nbformat_minor": 0,
  "metadata": {
    "colab": {
      "provenance": []
    },
    "kernelspec": {
      "name": "python3",
      "display_name": "Python 3"
    },
    "language_info": {
      "name": "python"
    }
  },
  "cells": [
    {
      "cell_type": "markdown",
      "source": [
        "## Replicate metapy functionality using TfidfVectorizer"
      ],
      "metadata": {
        "id": "MzMP_bbVK3M9"
      }
    },
    {
      "cell_type": "markdown",
      "source": [
        "This notebook explores how to replicate certain MeTA functionality found in metapy using sklearn's TfidfVectorizer.\n",
        "\n",
        "The code extends TfidfVectorizer functionality to create a doc_term_matrix, score queries using BM25, and calculate nDCG.\n",
        "\n",
        "MP2.4 was used to facilitate a side-by-side feature evaluation."
      ],
      "metadata": {
        "id": "inclzGIcK_r3"
      }
    },
    {
      "cell_type": "markdown",
      "source": [
        "### MP2.4 using metapy"
      ],
      "metadata": {
        "id": "cgRoe7NLg2d9"
      }
    },
    {
      "cell_type": "code",
      "source": [
        "!pip install metapy pytoml"
      ],
      "metadata": {
        "colab": {
          "base_uri": "https://localhost:8080/"
        },
        "id": "AOQk68WPgHEd",
        "outputId": "9f0348dd-32c3-47e3-b29b-6f75a684e621"
      },
      "execution_count": 6,
      "outputs": [
        {
          "output_type": "stream",
          "name": "stdout",
          "text": [
            "Looking in indexes: https://pypi.org/simple, https://us-python.pkg.dev/colab-wheels/public/simple/\n",
            "Collecting metapy\n",
            "  Downloading metapy-0.2.13-cp37-cp37m-manylinux1_x86_64.whl (14.3 MB)\n",
            "\u001b[K     |████████████████████████████████| 14.3 MB 4.1 MB/s \n",
            "\u001b[?25hCollecting pytoml\n",
            "  Downloading pytoml-0.1.21-py2.py3-none-any.whl (8.5 kB)\n",
            "Installing collected packages: pytoml, metapy\n",
            "Successfully installed metapy-0.2.13 pytoml-0.1.21\n"
          ]
        }
      ]
    },
    {
      "cell_type": "code",
      "execution_count": 56,
      "metadata": {
        "colab": {
          "base_uri": "https://localhost:8080/"
        },
        "id": "dlf5Dq07gCkM",
        "outputId": "adf9de0f-aa2c-4fd5-b9c3-6fdc25cee0b5"
      },
      "outputs": [
        {
          "output_type": "stream",
          "name": "stdout",
          "text": [
            "Building or loading index...\n",
            "Running queries\n",
            "NDCG@10: 0.26664379756251727\n",
            "Elapsed: 0.0085 seconds\n"
          ]
        }
      ],
      "source": [
        "import math\n",
        "import sys\n",
        "import time\n",
        "import metapy\n",
        "import pytoml\n",
        "\n",
        "class myBM25Ranker(metapy.index.RankingFunction):\n",
        "  \"\"\"\n",
        "  Create a new ranking function in Python that can be used in MeTA.\n",
        "  \"\"\"\n",
        "  def __init__(self, k1=1.2, b=0.75):    \n",
        "    # You *must* call the base class constructor here!\n",
        "    self.k1 = k1\n",
        "    self.b = b\n",
        "    super(myBM25Ranker, self).__init__()\n",
        "\n",
        "  def score_one(self, sd):\n",
        "    \"\"\"\n",
        "    You need to override this function to return a score for a single term.\n",
        "    For fields available in the score_data sd object,\n",
        "    @see https://meta-toolkit.org/doxygen/structmeta_1_1index_1_1score__data.html\n",
        "    \"\"\"\n",
        "    b = self.b\n",
        "    k1 = self.k1\n",
        "    idf = math.log((sd.num_docs - sd.doc_count + 0.50)/(sd.doc_count + 0.50) + 1)         \n",
        "    num = sd.doc_term_count*(k1 + 1)     \n",
        "    den = sd.doc_term_count + k1*(1 - b + b*sd.doc_size/sd.avg_dl)    \n",
        "    score = idf*(num/den)          \n",
        "    return score\n",
        "\n",
        "def load_ranker(cfg_file):\n",
        "  \"\"\"\n",
        "  Use this function to return the Ranker object to evaluate, \n",
        "  The parameter to this function, cfg_file, is the path to a\n",
        "  configuration file used to load the index.\n",
        "  \"\"\"\n",
        "  return myBM25Ranker()  \n",
        "\n",
        "if __name__ == '__main__':\n",
        "  \n",
        "  cfg = \"config.toml\"\n",
        "\n",
        "  print('Building or loading index...')\n",
        "  idx = metapy.index.make_inverted_index(cfg)\n",
        "  \n",
        "  ev = metapy.index.IREval(cfg)\n",
        "\n",
        "  with open(cfg, 'r') as fin:\n",
        "    cfg_d = pytoml.load(fin)\n",
        "\n",
        "  query_cfg = cfg_d['query-runner']\n",
        "  if query_cfg is None:\n",
        "    print(\"query-runner table needed in {}\".format(cfg))\n",
        "    sys.exit(1)\n",
        "\n",
        "  start_time = time.time()\n",
        "  top_k = 10\n",
        "  query_path = query_cfg.get('query-path', 'queries.txt')\n",
        "  query_start = query_cfg.get('query-id-start', 0)\n",
        "\n",
        "  query = metapy.index.Document()\n",
        "\n",
        "  ranker = load_ranker(cfg)\n",
        "  ndcg = 0.0\n",
        "  num_queries = 0\n",
        "  print('Running queries')\n",
        "  with open(query_path) as query_file:\n",
        "    for query_num, line in enumerate(query_file):\n",
        "      query.content(line.strip())\n",
        "      results = ranker.score(idx, query, top_k)  \n",
        "      if results != []:          \n",
        "        ndcg += ev.ndcg(results, query_start + query_num, top_k)\n",
        "        num_queries += 1      \n",
        "      break\n",
        "  ndcg = ndcg / num_queries\n",
        "          \n",
        "  print(\"NDCG@{}: {}\".format(top_k, ndcg))\n",
        "  print(\"Elapsed: {} seconds\".format(round(time.time() - start_time, 4)))"
      ]
    },
    {
      "cell_type": "markdown",
      "source": [
        "### MP2.4 using TfidfVectorizer"
      ],
      "metadata": {
        "id": "wDPqUsq9kYeg"
      }
    },
    {
      "cell_type": "code",
      "source": [
        "import pytoml\n",
        "import numpy as np\n",
        "from sklearn.feature_extraction.text import TfidfVectorizer\n",
        "from scipy import sparse"
      ],
      "metadata": {
        "id": "cAMfPq8AwmNA"
      },
      "execution_count": 417,
      "outputs": []
    },
    {
      "cell_type": "code",
      "source": [
        "np.set_printoptions(edgeitems=10, linewidth=100000, formatter=dict(float=lambda x: \"%.3g\" % x))"
      ],
      "metadata": {
        "id": "EjH5iD-861lV"
      },
      "execution_count": 418,
      "outputs": []
    },
    {
      "cell_type": "code",
      "source": [
        "cfg = \"config.toml\"\n",
        "\n",
        "with open(cfg, 'r') as fin:\n",
        "  cfg_d = pytoml.load(fin)\n",
        "\n",
        "query_cfg = cfg_d['query-runner']\n",
        "if query_cfg is None:\n",
        "  print(\"query-runner table needed in {}\".format(cfg))\n",
        "  sys.exit(1)\n",
        "\n",
        "query_path = query_cfg.get('query-path', 'queries.txt')\n",
        "query_start = query_cfg.get('query-id-start', 1)"
      ],
      "metadata": {
        "id": "1A0CjNWBlVVx"
      },
      "execution_count": 419,
      "outputs": []
    },
    {
      "cell_type": "code",
      "source": [
        "with open(query_path, 'r') as fin:\n",
        "  queries = [query.strip('\\n') for query in fin.readlines()][(query_start - 1):]"
      ],
      "metadata": {
        "id": "lD9zmrsfv_2v"
      },
      "execution_count": 420,
      "outputs": []
    },
    {
      "cell_type": "code",
      "source": [
        "num_queries = len(queries)\n",
        "num_queries"
      ],
      "metadata": {
        "colab": {
          "base_uri": "https://localhost:8080/"
        },
        "id": "vnHRqu6PAna_",
        "outputId": "c7d6943f-15ac-4993-f821-6940977964c1"
      },
      "execution_count": 421,
      "outputs": [
        {
          "output_type": "execute_result",
          "data": {
            "text/plain": [
              "225"
            ]
          },
          "metadata": {},
          "execution_count": 421
        }
      ]
    },
    {
      "cell_type": "code",
      "source": [
        "dataset = cfg_d.get('dataset', 'data')\n",
        "dataset"
      ],
      "metadata": {
        "colab": {
          "base_uri": "https://localhost:8080/",
          "height": 35
        },
        "id": "tJT-VLBjoH5E",
        "outputId": "65c91092-e5bd-4d10-eaef-28597ee68f87"
      },
      "execution_count": 422,
      "outputs": [
        {
          "output_type": "execute_result",
          "data": {
            "text/plain": [
              "'cranfield'"
            ],
            "application/vnd.google.colaboratory.intrinsic+json": {
              "type": "string"
            }
          },
          "metadata": {},
          "execution_count": 422
        }
      ]
    },
    {
      "cell_type": "code",
      "source": [
        "with open(f'{dataset}/{dataset}.dat', 'r') as fin:\n",
        "  corpus = [doc.strip('\\n') for doc in fin.readlines()]"
      ],
      "metadata": {
        "id": "TjSp_d4DlTwT"
      },
      "execution_count": 423,
      "outputs": []
    },
    {
      "cell_type": "code",
      "source": [
        "len(corpus)"
      ],
      "metadata": {
        "colab": {
          "base_uri": "https://localhost:8080/"
        },
        "id": "UXmB3XDHpMkt",
        "outputId": "3c5f538f-64d6-40a4-82c1-cd1fa0cffcee"
      },
      "execution_count": 424,
      "outputs": [
        {
          "output_type": "execute_result",
          "data": {
            "text/plain": [
              "1400"
            ]
          },
          "metadata": {},
          "execution_count": 424
        }
      ]
    },
    {
      "cell_type": "code",
      "source": [
        "stop_words_file = cfg_d.get('stop-words', 'stopwords.txt')\n",
        "\n",
        "with open(stop_words_file) as fin:\n",
        "  stop_words = [word.strip('\\n') for word in fin.readlines()]"
      ],
      "metadata": {
        "id": "NxNt0gAvtMQt"
      },
      "execution_count": 425,
      "outputs": []
    },
    {
      "cell_type": "code",
      "source": [
        "vectorizer = TfidfVectorizer()"
      ],
      "metadata": {
        "id": "IawMTruRvwLG"
      },
      "execution_count": 426,
      "outputs": []
    },
    {
      "cell_type": "code",
      "source": [
        "X = vectorizer.fit_transform(stop_words)"
      ],
      "metadata": {
        "id": "kl3mgprpy_7J"
      },
      "execution_count": 427,
      "outputs": []
    },
    {
      "cell_type": "code",
      "source": [
        "stop_word_tokens = list(vectorizer.get_feature_names_out())"
      ],
      "metadata": {
        "id": "Ik3cE7-FzIQ4"
      },
      "execution_count": 428,
      "outputs": []
    },
    {
      "cell_type": "code",
      "source": [
        "vectorizer = TfidfVectorizer(stop_words=stop_word_tokens, smooth_idf=False, norm=None)"
      ],
      "metadata": {
        "id": "TIydkuDxrizc"
      },
      "execution_count": 429,
      "outputs": []
    },
    {
      "cell_type": "code",
      "source": [
        "idx_tf = vectorizer.fit_transform(corpus)"
      ],
      "metadata": {
        "id": "ZCpT56Ev2R8J"
      },
      "execution_count": 431,
      "outputs": []
    },
    {
      "cell_type": "code",
      "source": [
        "num_docs = idx_tf.shape[0]\n",
        "num_docs"
      ],
      "metadata": {
        "colab": {
          "base_uri": "https://localhost:8080/"
        },
        "id": "6wAD3ddm2Z8i",
        "outputId": "d78b5333-0ff1-4976-eb74-9c4e177816dd"
      },
      "execution_count": 432,
      "outputs": [
        {
          "output_type": "execute_result",
          "data": {
            "text/plain": [
              "1400"
            ]
          },
          "metadata": {},
          "execution_count": 432
        }
      ]
    },
    {
      "cell_type": "code",
      "source": [
        "vocabulary_size = idx_tf.shape[1]\n",
        "vocabulary_size"
      ],
      "metadata": {
        "colab": {
          "base_uri": "https://localhost:8080/"
        },
        "id": "enszFuf736g1",
        "outputId": "9616e609-42ee-41cd-fe6e-a3df5ad23346"
      },
      "execution_count": 433,
      "outputs": [
        {
          "output_type": "execute_result",
          "data": {
            "text/plain": [
              "7166"
            ]
          },
          "metadata": {},
          "execution_count": 433
        }
      ]
    },
    {
      "cell_type": "code",
      "source": [
        "tf_matrix = idx_tf.toarray()\n",
        "tf_matrix.shape"
      ],
      "metadata": {
        "colab": {
          "base_uri": "https://localhost:8080/"
        },
        "id": "Y-H_OUzk6fKn",
        "outputId": "1dd3e8ab-4119-4c13-f429-8f7d344098c5"
      },
      "execution_count": 434,
      "outputs": [
        {
          "output_type": "execute_result",
          "data": {
            "text/plain": [
              "(1400, 7166)"
            ]
          },
          "metadata": {},
          "execution_count": 434
        }
      ]
    },
    {
      "cell_type": "code",
      "source": [
        "idx_count = super(TfidfVectorizer, vectorizer).transform(corpus)"
      ],
      "metadata": {
        "id": "bbZPx1-tzYZf"
      },
      "execution_count": 435,
      "outputs": []
    },
    {
      "cell_type": "code",
      "source": [
        "doc_term_matrix = idx_count.toarray()\n",
        "doc_term_matrix.shape"
      ],
      "metadata": {
        "colab": {
          "base_uri": "https://localhost:8080/"
        },
        "id": "Z2GqroNF45zN",
        "outputId": "8c1b1e35-1617-4bc1-ff8d-f8da816f235f"
      },
      "execution_count": 436,
      "outputs": [
        {
          "output_type": "execute_result",
          "data": {
            "text/plain": [
              "(1400, 7166)"
            ]
          },
          "metadata": {},
          "execution_count": 436
        }
      ]
    },
    {
      "cell_type": "code",
      "source": [
        "doc_count = np.sum(doc_term_matrix > 0, axis=0)"
      ],
      "metadata": {
        "id": "RG06qETa7RCq"
      },
      "execution_count": 437,
      "outputs": []
    },
    {
      "cell_type": "code",
      "source": [
        "avg_doc_length = idx_count.sum(axis=1).mean()\n",
        "avg_doc_length"
      ],
      "metadata": {
        "colab": {
          "base_uri": "https://localhost:8080/"
        },
        "id": "o0jnYftv2bxC",
        "outputId": "a0f97dfb-5fe8-407d-ba02-6750c2b980cc"
      },
      "execution_count": 438,
      "outputs": [
        {
          "output_type": "execute_result",
          "data": {
            "text/plain": [
              "88.34714285714286"
            ]
          },
          "metadata": {},
          "execution_count": 438
        }
      ]
    },
    {
      "cell_type": "code",
      "source": [
        "doc_lengths = idx_count.sum(axis=1).A1\n",
        "doc_lengths"
      ],
      "metadata": {
        "colab": {
          "base_uri": "https://localhost:8080/"
        },
        "id": "zUGvfMfLBQXm",
        "outputId": "56ccdab7-1b4a-481a-c811-cbd9ab29864e"
      },
      "execution_count": 439,
      "outputs": [
        {
          "output_type": "execute_result",
          "data": {
            "text/plain": [
              "array([77, 112, 17, 46, 33, 50, 126, 81, 174, 29, ..., 120, 159, 103, 84, 57, 55, 47, 109, 45, 61])"
            ]
          },
          "metadata": {},
          "execution_count": 439
        }
      ]
    },
    {
      "cell_type": "code",
      "source": [
        "query_term_matrix = super(TfidfVectorizer, vectorizer).transform(queries).toarray()\n",
        "query_term_matrix.shape"
      ],
      "metadata": {
        "colab": {
          "base_uri": "https://localhost:8080/"
        },
        "id": "MDWx2g8hsG53",
        "outputId": "0bb89948-cebc-469e-83f7-f5c7a4341c64"
      },
      "execution_count": 440,
      "outputs": [
        {
          "output_type": "execute_result",
          "data": {
            "text/plain": [
              "(225, 7166)"
            ]
          },
          "metadata": {},
          "execution_count": 440
        }
      ]
    },
    {
      "cell_type": "code",
      "source": [
        "idf = vectorizer.idf_ - 1\n",
        "idf.shape"
      ],
      "metadata": {
        "colab": {
          "base_uri": "https://localhost:8080/"
        },
        "id": "I7cdXRydsh5l",
        "outputId": "ae5421e0-9fad-468d-b5ee-80cb56331206"
      },
      "execution_count": 441,
      "outputs": [
        {
          "output_type": "execute_result",
          "data": {
            "text/plain": [
              "(7166,)"
            ]
          },
          "metadata": {},
          "execution_count": 441
        }
      ]
    },
    {
      "cell_type": "code",
      "source": [
        "idf"
      ],
      "metadata": {
        "colab": {
          "base_uri": "https://localhost:8080/"
        },
        "id": "uXJpQuaj9kWh",
        "outputId": "069f65a7-0ce4-41db-f5b5-192fe5c0948f"
      },
      "execution_count": 442,
      "outputs": [
        {
          "output_type": "execute_result",
          "data": {
            "text/plain": [
              "array([5.16, 3.29, 6.55, 7.24, 7.24, 6.55, 7.24, 6.55, 7.24, 7.24, ..., 7.24, 2.33, 7.24, 7.24, 7.24, 4.76, 6.55, 7.24, 7.24, 6.55])"
            ]
          },
          "metadata": {},
          "execution_count": 442
        }
      ]
    },
    {
      "cell_type": "code",
      "source": [
        "idf_ = np.log((num_docs - doc_count + 0.50)/(doc_count + 0.50) + 1)\n",
        "idf_.shape"
      ],
      "metadata": {
        "colab": {
          "base_uri": "https://localhost:8080/"
        },
        "id": "uynhL5TL7D8i",
        "outputId": "60151971-f576-4c5d-8b55-e35a70bb8221"
      },
      "execution_count": 443,
      "outputs": [
        {
          "output_type": "execute_result",
          "data": {
            "text/plain": [
              "(7166,)"
            ]
          },
          "metadata": {},
          "execution_count": 443
        }
      ]
    },
    {
      "cell_type": "code",
      "source": [
        "idf_"
      ],
      "metadata": {
        "colab": {
          "base_uri": "https://localhost:8080/"
        },
        "id": "9jQRASbk9lyR",
        "outputId": "ca1dc154-b577-44e3-db5d-7a7df2eecc71"
      },
      "execution_count": 444,
      "outputs": [
        {
          "output_type": "execute_result",
          "data": {
            "text/plain": [
              "array([5.1, 3.28, 6.33, 6.84, 6.84, 6.33, 6.84, 6.33, 6.84, 6.84, ..., 6.84, 2.33, 6.84, 6.84, 6.84, 4.72, 6.33, 6.84, 6.84, 6.33])"
            ]
          },
          "metadata": {},
          "execution_count": 444
        }
      ]
    },
    {
      "cell_type": "markdown",
      "source": [
        "### BM25 Calculator"
      ],
      "metadata": {
        "id": "07jjLrPZKtbq"
      }
    },
    {
      "cell_type": "code",
      "source": [
        "k1 = 1.2\n",
        "b = 0.75\n",
        "num = idf_ * doc_term_matrix * (k1 + 1)\n",
        "num.shape"
      ],
      "metadata": {
        "colab": {
          "base_uri": "https://localhost:8080/"
        },
        "id": "PmMwERWhM-D0",
        "outputId": "c7e93cb7-1b32-4d26-86c4-ccbf924abc09"
      },
      "execution_count": 461,
      "outputs": [
        {
          "output_type": "execute_result",
          "data": {
            "text/plain": [
              "(1400, 7166)"
            ]
          },
          "metadata": {},
          "execution_count": 461
        }
      ]
    },
    {
      "cell_type": "code",
      "source": [
        "den = doc_term_matrix + (k1*(1 - b + b*doc_lengths/avg_doc_length))[:, np.newaxis]\n",
        "den.shape"
      ],
      "metadata": {
        "colab": {
          "base_uri": "https://localhost:8080/"
        },
        "id": "FNnuhmtPN9t5",
        "outputId": "441a491c-b7d0-47ea-b908-80d8e7e47d51"
      },
      "execution_count": 462,
      "outputs": [
        {
          "output_type": "execute_result",
          "data": {
            "text/plain": [
              "(1400, 7166)"
            ]
          },
          "metadata": {},
          "execution_count": 462
        }
      ]
    },
    {
      "cell_type": "code",
      "source": [
        "scores = np.divide(num, den2, out=np.zeros_like(num), where=den!=0)\n",
        "scores.shape"
      ],
      "metadata": {
        "colab": {
          "base_uri": "https://localhost:8080/"
        },
        "id": "9kpn7Z4e_463",
        "outputId": "7904d459-d26d-4025-88fe-c26c08b5e33f"
      },
      "execution_count": 463,
      "outputs": [
        {
          "output_type": "execute_result",
          "data": {
            "text/plain": [
              "(1400, 7166)"
            ]
          },
          "metadata": {},
          "execution_count": 463
        }
      ]
    },
    {
      "cell_type": "code",
      "source": [
        "bm25_scores = np.dot(query_term_matrix, scores.T)\n",
        "bm25_scores.shape"
      ],
      "metadata": {
        "colab": {
          "base_uri": "https://localhost:8080/"
        },
        "id": "tOX2LT5THrCY",
        "outputId": "88081449-0f6c-43ac-b494-40e06d94360a"
      },
      "execution_count": 464,
      "outputs": [
        {
          "output_type": "execute_result",
          "data": {
            "text/plain": [
              "(225, 1400)"
            ]
          },
          "metadata": {},
          "execution_count": 464
        }
      ]
    },
    {
      "cell_type": "code",
      "source": [
        "top_k = 10\n",
        "idx_k = np.argpartition(bm25_scores, -top_k, axis=1)\n",
        "idx_k = idx_k[:, -top_k:]"
      ],
      "metadata": {
        "id": "Amq6fjI5O69c"
      },
      "execution_count": 465,
      "outputs": []
    },
    {
      "cell_type": "code",
      "source": [
        "ranks = np.take_along_axis(idx_k, np.argsort(-np.take_along_axis(bm25_scores, idx_k, axis=1)), axis=1)\n",
        "ranks"
      ],
      "metadata": {
        "colab": {
          "base_uri": "https://localhost:8080/"
        },
        "id": "sKNKVqiWSXMN",
        "outputId": "6f59a349-2004-42ce-9972-403093a9d923"
      },
      "execution_count": 466,
      "outputs": [
        {
          "output_type": "execute_result",
          "data": {
            "text/plain": [
              "array([[ 183,   12,  485,   11,  877,   50, 1267, 1143,  140,  874],\n",
              "       [  11,  745,   50,  723, 1168,  883,  140,   13, 1088, 1169],\n",
              "       [   4,  398,  180,  143,  484,  541,  578,  583,  158,  581],\n",
              "       [ 165,  487, 1188, 1084,  184, 1274, 1060, 1311,  235,  574],\n",
              "       [ 102, 1031,  942, 1295,  745, 1378, 1271,  649,  171,  848],\n",
              "       [ 490,  256,  385,  384,  609,  405, 1373, 1272, 1195,  766],\n",
              "       [ 491,  972,   55,   56,  433,  121, 1230,  123, 1039,  247],\n",
              "       [ 121,  491,  906,  710,  442,  236,  231,  568, 1351, 1082],\n",
              "       [  20,   44,  549,  305,  570,   21,  101, 1214,  269,  302],\n",
              "       [ 492, 1198,  948,  523,  301,  690,  404, 1008, 1285, 1009],\n",
              "       ...,\n",
              "       [  38,  957, 1318,  174, 1273,  406, 1155,  904,  973,  691],\n",
              "       [ 982, 1392,  665,  322, 1394, 1393,  323,   43, 1160,  945],\n",
              "       [1392, 1394,  322, 1393,  982,  665,  669,  294, 1160,  558],\n",
              "       [ 992,  991, 1220, 1221, 1081,  808,  656,  267,  341,  207],\n",
              "       [ 291, 1374,  230, 1191,  457,  526,  460,  471,  976,  898],\n",
              "       [ 387, 1365, 1385,  457,  527,  652,   72,  403,   45,  636],\n",
              "       [1129,  418, 1398,  399, 1399, 1049, 1069, 1177, 1047, 1120],\n",
              "       [ 399, 1399, 1398,  418,  387, 1386, 1120, 1049, 1047, 1007],\n",
              "       [1311,  316, 1285,  258,  400, 1295,  655,  235,  574, 1156],\n",
              "       [1187, 1379,  747,  224, 1344,  637, 1123, 1255,  415, 1290]])"
            ]
          },
          "metadata": {},
          "execution_count": 466
        }
      ]
    },
    {
      "cell_type": "code",
      "source": [
        "np.take_along_axis(bm25_scores, ranks, axis=1)"
      ],
      "metadata": {
        "colab": {
          "base_uri": "https://localhost:8080/"
        },
        "id": "3e0lKO-px_ek",
        "outputId": "f41220f1-2ab3-479e-c7e0-8d7677ee18af"
      },
      "execution_count": 467,
      "outputs": [
        {
          "output_type": "execute_result",
          "data": {
            "text/plain": [
              "array([[15.7, 15, 14.8, 14.3, 11, 9.62, 8.82, 8.61, 8.26, 8.2],\n",
              "       [24.2, 13.1, 11.7, 10.7, 10.3, 10.3, 10.2, 10.1, 9.77, 9.68],\n",
              "       [18.3, 17, 15.6, 14.2, 13.7, 11.7, 8.04, 7.9, 7.23, 7.21],\n",
              "       [20.3, 15.9, 15.3, 12.8, 12.7, 12.7, 12.5, 12.4, 11.8, 11.4],\n",
              "       [12.3, 10.4, 8.78, 8.27, 8.18, 7.77, 7.58, 7.18, 6.64, 6.58],\n",
              "       [12.9, 8.67, 8.28, 8.04, 6.61, 6.39, 6.36, 6.35, 6.32, 6.07],\n",
              "       [55.4, 27.4, 25.7, 24.7, 24.3, 23.5, 20.8, 20.1, 20.1, 17.5],\n",
              "       [16.2, 14, 13.3, 12.9, 12.6, 11.9, 11.4, 10.9, 10.8, 10.7],\n",
              "       [15, 12.9, 11.5, 10.6, 10.4, 10.2, 10.2, 9.15, 9.04, 8.59],\n",
              "       [18.2, 12.8, 12.5, 12.4, 12.2, 11.9, 11.2, 11, 11, 10.8],\n",
              "       ...,\n",
              "       [10.3, 9.34, 9.05, 9.02, 8.91, 8.87, 8.74, 8.6, 8.41, 8.22],\n",
              "       [12.2, 11.8, 11.5, 11.4, 11.3, 11.2, 11, 10.7, 10.6, 10],\n",
              "       [10.3, 9.76, 9.74, 9.29, 9.17, 9.03, 8.74, 8.74, 8.51, 8.46],\n",
              "       [8.96, 8.81, 8.68, 7.64, 7.61, 7.47, 7.44, 7.35, 7.26, 7.16],\n",
              "       [14.2, 13.2, 13.1, 12.3, 12.2, 11.8, 11.7, 11.3, 11, 10.7],\n",
              "       [12.8, 12.2, 11.4, 9.84, 9.05, 8.98, 8.73, 8.72, 8.62, 8.56],\n",
              "       [16.4, 15.9, 13.4, 11.7, 11.5, 10.2, 9.7, 9.6, 9.53, 9.49],\n",
              "       [19.8, 15.3, 15, 14.8, 13.6, 13.3, 13.1, 12.7, 12.4, 11.5],\n",
              "       [20, 15.4, 15.1, 14.2, 13.2, 12.6, 11.7, 11.4, 10.5, 10.4],\n",
              "       [17.3, 15.1, 11.3, 11, 10.9, 10.7, 10.1, 9.93, 9.77, 9.69]])"
            ]
          },
          "metadata": {},
          "execution_count": 467
        }
      ]
    },
    {
      "cell_type": "markdown",
      "source": [
        "### nDCG Calculator"
      ],
      "metadata": {
        "id": "aiZcOdXi5Wzl"
      }
    },
    {
      "cell_type": "markdown",
      "source": [
        "standard formula for nDCG:"
      ],
      "metadata": {
        "id": "6ii_meiai_5B"
      }
    },
    {
      "cell_type": "markdown",
      "source": [
        "$$\n",
        "DCG_p = \\sum_{i=1}^p \\frac{rel_i}{\\log_2(i+1)}, \\quad p = num\\_docs \\\\\n",
        " nDCG_p = \\frac{DCG_p}{IDCG_p}\n",
        "$$"
      ],
      "metadata": {
        "id": "U7PoZayBjGZ3"
      }
    },
    {
      "cell_type": "markdown",
      "source": [
        "metapy uses a slightly different formula for calculating nDCG:\n",
        "[Link](https://meta-toolkit.org/doxygen/classmeta_1_1index_1_1ir__eval.html#a23827b8671dffbfbc85494def49d66c1)"
      ],
      "metadata": {
        "id": "eTis64x9hdaJ"
      }
    },
    {
      "cell_type": "markdown",
      "source": [
        " $$\n",
        "DCG_p = \\sum_{i=1}^p \\frac{2^{rel_i}-1}{\\log_2(i+1)}, \\quad p = num\\_docs \\\\\n",
        " nDCG_p = \\frac{DCG_p}{IDCG_p}\n",
        " $$"
      ],
      "metadata": {
        "id": "57dIMynhhz1v"
      }
    },
    {
      "cell_type": "code",
      "source": [
        "query_judgements = cfg_d.get('query-judgements', 'qrels.txt')\n",
        "query_judgements"
      ],
      "metadata": {
        "colab": {
          "base_uri": "https://localhost:8080/",
          "height": 35
        },
        "id": "A_tUi5qhC5GI",
        "outputId": "56e47407-271e-49fc-94fb-1e4ac571d192"
      },
      "execution_count": 468,
      "outputs": [
        {
          "output_type": "execute_result",
          "data": {
            "text/plain": [
              "'cranfield-qrels.txt'"
            ],
            "application/vnd.google.colaboratory.intrinsic+json": {
              "type": "string"
            }
          },
          "metadata": {},
          "execution_count": 468
        }
      ]
    },
    {
      "cell_type": "code",
      "source": [
        "with open(query_judgements, 'r') as fin:\n",
        "  qranks = [doc.strip('\\n').split(' ') for doc in fin.readlines()]\n",
        "\n",
        "qranks = np.array(qranks, dtype=int)"
      ],
      "metadata": {
        "id": "8yAgWItOX7j6"
      },
      "execution_count": 469,
      "outputs": []
    },
    {
      "cell_type": "code",
      "source": [
        "relevant = np.zeros((num_queries, num_docs), dtype=int)\n",
        "relevant[qranks[:, 0]-1, qranks[:, 1]-1] = qranks[:, 2]"
      ],
      "metadata": {
        "id": "ReLbBTFnZHUh"
      },
      "execution_count": 470,
      "outputs": []
    },
    {
      "cell_type": "code",
      "source": [
        "rel = np.take_along_axis(relevant, ranks-1, axis=1)\n",
        "rel"
      ],
      "metadata": {
        "colab": {
          "base_uri": "https://localhost:8080/"
        },
        "id": "GZrGO6pbI6P3",
        "outputId": "04d3c15c-8b44-4412-fece-f779177be40c"
      },
      "execution_count": 471,
      "outputs": [
        {
          "output_type": "execute_result",
          "data": {
            "text/plain": [
              "array([[3, 1, 0, 2, 0, 2, 0, 0, 0, 3],\n",
              "       [4, 4, 2, 0, 0, 0, 0, 1, 0, 0],\n",
              "       [2, 2, 2, 2, 0, 0, 0, 0, 0, 0],\n",
              "       [2, 0, 0, 0, 0, 0, 0, 0, 2, 0],\n",
              "       [0, 0, 0, 4, 0, 0, 0, 0, 0, 0],\n",
              "       [0, 2, 0, 0, 0, 0, 0, 0, 0, 0],\n",
              "       [0, 0, 2, 2, 0, 0, 0, 0, 0, 0],\n",
              "       [4, 0, 0, 0, 0, 0, 0, 0, 0, 0],\n",
              "       [3, 0, 3, 0, 0, 3, 0, 0, 0, 0],\n",
              "       [0, 0, 0, 0, 2, 0, 3, 0, 0, 0],\n",
              "       ...,\n",
              "       [0, 0, 0, 0, 0, 0, 0, 0, 0, 0],\n",
              "       [0, 0, 4, 0, 4, 3, 0, 0, 0, 0],\n",
              "       [4, 0, 0, 0, 0, 2, 0, 0, 0, 2],\n",
              "       [0, 0, 0, 0, 0, 0, 0, 0, 0, 0],\n",
              "       [2, 0, 0, 0, 1, 0, 0, 0, 1, 0],\n",
              "       [0, 2, 1, 2, 0, 0, 0, 0, 0, 0],\n",
              "       [0, 2, 1, 2, 2, 0, 0, 0, 0, 0],\n",
              "       [2, 0, 0, 0, 0, 2, 0, 0, 0, 0],\n",
              "       [0, 0, 0, 0, 0, 0, 2, 0, 0, 2],\n",
              "       [0, 1, 0, 2, 0, 0, 2, 0, 0, 0]])"
            ]
          },
          "metadata": {},
          "execution_count": 471
        }
      ]
    },
    {
      "cell_type": "code",
      "source": [
        "irel = np.sort(relevant, axis=1)[:, -top_k:][:, ::-1]\n",
        "irel"
      ],
      "metadata": {
        "colab": {
          "base_uri": "https://localhost:8080/"
        },
        "id": "luhdHceGb7vE",
        "outputId": "88a351db-4112-49e5-aa57-75a88d76be0b"
      },
      "execution_count": 472,
      "outputs": [
        {
          "output_type": "execute_result",
          "data": {
            "text/plain": [
              "array([[3, 3, 3, 3, 3, 3, 3, 2, 2, 2],\n",
              "       [4, 4, 3, 3, 3, 3, 3, 2, 2, 2],\n",
              "       [2, 2, 2, 2, 2, 2, 2, 2, 0, 0],\n",
              "       [2, 2, 0, 0, 0, 0, 0, 0, 0, 0],\n",
              "       [4, 4, 2, 2, 0, 0, 0, 0, 0, 0],\n",
              "       [3, 2, 2, 2, 0, 0, 0, 0, 0, 0],\n",
              "       [3, 2, 2, 2, 1, 0, 0, 0, 0, 0],\n",
              "       [4, 4, 4, 4, 4, 2, 2, 2, 2, 2],\n",
              "       [3, 3, 3, 0, 0, 0, 0, 0, 0, 0],\n",
              "       [3, 3, 2, 2, 2, 2, 2, 2, 0, 0],\n",
              "       ...,\n",
              "       [4, 0, 0, 0, 0, 0, 0, 0, 0, 0],\n",
              "       [4, 4, 4, 3, 3, 2, 2, 2, 2, 2],\n",
              "       [4, 4, 4, 2, 2, 2, 2, 2, 2, 2],\n",
              "       [4, 3, 3, 3, 3, 3, 2, 2, 2, 2],\n",
              "       [3, 3, 2, 2, 2, 2, 2, 2, 2, 2],\n",
              "       [3, 3, 3, 2, 2, 2, 2, 2, 2, 2],\n",
              "       [2, 2, 2, 2, 2, 1, 1, 1, 1, 0],\n",
              "       [2, 2, 2, 2, 0, 0, 0, 0, 0, 0],\n",
              "       [2, 2, 2, 2, 2, 2, 2, 1, 0, 0],\n",
              "       [3, 3, 3, 2, 2, 2, 2, 2, 2, 2]])"
            ]
          },
          "metadata": {},
          "execution_count": 472
        }
      ]
    },
    {
      "cell_type": "code",
      "source": [
        "# discounted cumulative gain\n",
        "def dcg_p_np(rel):\n",
        "  i = np.full(rel.shape, np.arange(1, rel.shape[1]+1))\n",
        "  return np.sum((2**rel - 1)/np.log2(i+1), axis=1)"
      ],
      "metadata": {
        "id": "rpqxK6Sxjpii"
      },
      "execution_count": 473,
      "outputs": []
    },
    {
      "cell_type": "code",
      "source": [
        "# normalized discounted cumulative gain\n",
        "def ndcg_p_np(rel, irel):\n",
        "  return dcg_p_np(rel)/dcg_p_np(irel)"
      ],
      "metadata": {
        "id": "PlfOYoQfmIkq"
      },
      "execution_count": 474,
      "outputs": []
    },
    {
      "cell_type": "code",
      "source": [
        "ndcg_p_np(rel, irel)"
      ],
      "metadata": {
        "colab": {
          "base_uri": "https://localhost:8080/"
        },
        "id": "QQROA_3BmXG9",
        "outputId": "955b95bd-59ff-46b8-d471-872a405e9a3b"
      },
      "execution_count": 475,
      "outputs": [
        {
          "output_type": "execute_result",
          "data": {
            "text/plain": [
              "array([0.426, 0.637, 0.648, 0.798, 0.237, 0.162, 0.231, 0.306, 0.871, 0.19, 0.072, 0.268, 0, 0.987, 0.738, 0.182, 0.339, 0.202, 0, 0.44, 0.24, 0, 0.338, 0.523, 0.502, 0.622, 0.103, 0, 0.468, 0.108, 0, 0.0645, 0.683, 0.327, 0, 0.106, 0.213, 0, 0.219, 0.032, 0.873, 0.289, 0.751, 0, 0.394, 0.583, 0.345, 0.357, 0.413, 0, 0.465, 0.536, 0.174, 0.284, 0.324, 0.13, 0.323, 0.251, 0, 0.39, 0.405, 0, 0, 0.881, 0.609, 0.287, 0.594, 0.344, 0, 0.0797, 0.117, 0.181, 0.587, 0.144, 0.234, 0.253, 0.433, 0.643, 0.223, 0, 0.347, 0.534, 0.139, 0.286, 0.039, 0.693, 0, 0.534, 0.284, 0.199, 0.489, 0.301, 0.631, 0.318, 0.064, 0.334, 0.16, 0.0373, 0.507, 0.497, 0.8, 0.141, 0, 0.233, 0.544, 0.369, 0.378, 0.726, 0, 0, 0.0446, 0.434, 0.559, 0.195, 0, 0.0644, 0, 0.798, 1, 0.576, 0.65, 0.18, 0, 0, 0.392, 0.571, 0.218, 0, 0.547, 0.655, 0.304, 0.49, 0.211, 0.12, 0.115, 0.587, 0.21, 0.204, 0, 0.298, 0.557, 0, 0.613, 0.661, 0.568, 0.556, 0.34, 0.403, 0.526, 0.693, 0, 0.274, 0.322, 0.6, 0.241, 0.342, 0.351, 0.609, 0.142, 0.161, 0.726, 0.22, 0.437, 0.607, 0.693, 0.0731, 0.445, 0.218, 0.441, 0.78, 0.697, 0.682, 1, 0.128, 0.134, 0.158, 0.49, 0.95, 0.414, 0.325, 0.346, 0.612, 0.611, 0.113, 0.807, 0.46, 0.237, 0.498, 0.154, 0.501, 0.213, 0.397, 0.753, 0.097, 0.167, 0.149, 0.797, 0.615, 0.0573, 0.432, 0.519, 0.0513, 0.495, 0.186, 0, 0.575, 0.231, 0.695, 0.152, 0.492, 0.0186, 0.546, 0.82, 0.246, 0, 0, 0.372, 0.432, 0, 0.183, 0.166, 0.477, 0.529, 0.166, 0.132])"
            ]
          },
          "metadata": {},
          "execution_count": 475
        }
      ]
    },
    {
      "cell_type": "code",
      "source": [
        "ndcg_p_np(rel, irel).mean()"
      ],
      "metadata": {
        "colab": {
          "base_uri": "https://localhost:8080/"
        },
        "id": "7yBTnBUZmYyv",
        "outputId": "e3cd3ab7-cba0-4351-ac44-2695a44d843c"
      },
      "execution_count": 476,
      "outputs": [
        {
          "output_type": "execute_result",
          "data": {
            "text/plain": [
              "0.3434456122724809"
            ]
          },
          "metadata": {},
          "execution_count": 476
        }
      ]
    }
  ]
}